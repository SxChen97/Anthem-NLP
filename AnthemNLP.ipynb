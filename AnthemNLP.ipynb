{
 "cells": [
  {
   "cell_type": "code",
   "execution_count": 1,
   "metadata": {},
   "outputs": [
    {
     "name": "stderr",
     "output_type": "stream",
     "text": [
      "[nltk_data] Downloading collection 'popular'\n",
      "[nltk_data]    | \n",
      "[nltk_data]    | Downloading package cmudict to\n",
      "[nltk_data]    |     /Users/shannonchen/nltk_data...\n",
      "[nltk_data]    |   Package cmudict is already up-to-date!\n",
      "[nltk_data]    | Downloading package gazetteers to\n",
      "[nltk_data]    |     /Users/shannonchen/nltk_data...\n",
      "[nltk_data]    |   Package gazetteers is already up-to-date!\n",
      "[nltk_data]    | Downloading package genesis to\n",
      "[nltk_data]    |     /Users/shannonchen/nltk_data...\n",
      "[nltk_data]    |   Package genesis is already up-to-date!\n",
      "[nltk_data]    | Downloading package gutenberg to\n",
      "[nltk_data]    |     /Users/shannonchen/nltk_data...\n",
      "[nltk_data]    |   Package gutenberg is already up-to-date!\n",
      "[nltk_data]    | Downloading package inaugural to\n",
      "[nltk_data]    |     /Users/shannonchen/nltk_data...\n",
      "[nltk_data]    |   Package inaugural is already up-to-date!\n",
      "[nltk_data]    | Downloading package movie_reviews to\n",
      "[nltk_data]    |     /Users/shannonchen/nltk_data...\n",
      "[nltk_data]    |   Package movie_reviews is already up-to-date!\n",
      "[nltk_data]    | Downloading package names to\n",
      "[nltk_data]    |     /Users/shannonchen/nltk_data...\n",
      "[nltk_data]    |   Package names is already up-to-date!\n",
      "[nltk_data]    | Downloading package shakespeare to\n",
      "[nltk_data]    |     /Users/shannonchen/nltk_data...\n",
      "[nltk_data]    |   Package shakespeare is already up-to-date!\n",
      "[nltk_data]    | Downloading package stopwords to\n",
      "[nltk_data]    |     /Users/shannonchen/nltk_data...\n",
      "[nltk_data]    |   Package stopwords is already up-to-date!\n",
      "[nltk_data]    | Downloading package treebank to\n",
      "[nltk_data]    |     /Users/shannonchen/nltk_data...\n",
      "[nltk_data]    |   Package treebank is already up-to-date!\n",
      "[nltk_data]    | Downloading package twitter_samples to\n",
      "[nltk_data]    |     /Users/shannonchen/nltk_data...\n",
      "[nltk_data]    |   Package twitter_samples is already up-to-date!\n",
      "[nltk_data]    | Downloading package omw to\n",
      "[nltk_data]    |     /Users/shannonchen/nltk_data...\n",
      "[nltk_data]    |   Package omw is already up-to-date!\n",
      "[nltk_data]    | Downloading package wordnet to\n",
      "[nltk_data]    |     /Users/shannonchen/nltk_data...\n",
      "[nltk_data]    |   Package wordnet is already up-to-date!\n",
      "[nltk_data]    | Downloading package wordnet_ic to\n",
      "[nltk_data]    |     /Users/shannonchen/nltk_data...\n",
      "[nltk_data]    |   Package wordnet_ic is already up-to-date!\n",
      "[nltk_data]    | Downloading package words to\n",
      "[nltk_data]    |     /Users/shannonchen/nltk_data...\n",
      "[nltk_data]    |   Package words is already up-to-date!\n",
      "[nltk_data]    | Downloading package maxent_ne_chunker to\n",
      "[nltk_data]    |     /Users/shannonchen/nltk_data...\n",
      "[nltk_data]    |   Package maxent_ne_chunker is already up-to-date!\n",
      "[nltk_data]    | Downloading package punkt to\n",
      "[nltk_data]    |     /Users/shannonchen/nltk_data...\n",
      "[nltk_data]    |   Package punkt is already up-to-date!\n",
      "[nltk_data]    | Downloading package snowball_data to\n",
      "[nltk_data]    |     /Users/shannonchen/nltk_data...\n",
      "[nltk_data]    |   Package snowball_data is already up-to-date!\n",
      "[nltk_data]    | Downloading package averaged_perceptron_tagger to\n",
      "[nltk_data]    |     /Users/shannonchen/nltk_data...\n",
      "[nltk_data]    |   Package averaged_perceptron_tagger is already up-\n",
      "[nltk_data]    |       to-date!\n",
      "[nltk_data]    | \n",
      "[nltk_data]  Done downloading collection popular\n"
     ]
    }
   ],
   "source": [
    "import nltk\n",
    "nltk.download('popular')\n",
    "import itertools\n",
    "#from nltk.tokenize import sent_tokenize\n",
    "from nltk.tokenize import word_tokenize\n",
    "from nltk.probability import FreqDist\n",
    "from nltk.corpus import stopwords\n",
    "#import plotly\n",
    "#plotly.offline.init_notebook_mode(connected=True)\n",
    "#import plotly.graph_objects as go\n",
    "import matplotlib \n",
    "from nltk.stem import PorterStemmer\n",
    "from nltk.stem.wordnet import WordNetLemmatizer\n",
    "from collections import Counter\n",
    "import pandas as pd\n",
    "import string\n",
    "from sklearn.feature_extraction.text import CountVectorizer\n",
    "from sklearn.decomposition import LatentDirichletAllocation"
   ]
  },
  {
   "cell_type": "code",
   "execution_count": 2,
   "metadata": {},
   "outputs": [],
   "source": [
    "# Storing text into list\n",
    "anthemtext = []\n",
    "with open('anthem.txt') as inputfile:\n",
    "    for line in inputfile:\n",
    "        anthemtext.append(line.strip().split(','))"
   ]
  },
  {
   "cell_type": "code",
   "execution_count": 3,
   "metadata": {},
   "outputs": [
    {
     "data": {
      "text/plain": [
       "['evil. It is as if we were speaking alone to no ears but our own. And',\n",
       " 'we know well that there is no transgression blacker than to do or think',\n",
       " 'alone. We have broken the laws. The laws say that men may not write',\n",
       " 'unless the Council of Vocations bid them so. May we be forgiven!',\n",
       " 'But this is not the only sin upon us. We have committed a greater crime',\n",
       " '',\n",
       " 'and for this crime there is no name. What punishment awaits us if it be',\n",
       " 'discovered we know not',\n",
       " ' for no such crime has come in the memory of men',\n",
       " 'and there are no laws to provide for it.',\n",
       " 'It is dark here. The flame of the candle stands still in the air.',\n",
       " 'Nothing moves in this tunnel save our hand on the paper. We are alone',\n",
       " 'here under the earth. It is a fearful word',\n",
       " ' alone. The laws say that',\n",
       " 'none among men may be alone',\n",
       " ' ever and at any time',\n",
       " ' for this is the great',\n",
       " 'transgression and the root of all evil. But we have broken many laws.',\n",
       " 'And now there is nothing here save our one body',\n",
       " ' and it is strange to',\n",
       " 'see only two legs stretched on the ground',\n",
       " ' and on the wall before us the',\n",
       " 'shadow of our one head.',\n",
       " 'The walls are cracked and water runs upon them in thin threads without',\n",
       " 'sound']"
      ]
     },
     "execution_count": 3,
     "metadata": {},
     "output_type": "execute_result"
    }
   ],
   "source": [
    "## Preprocessing \n",
    "\n",
    "anthemtext[:] = (value for value in anthemtext if value != ['']) #Removed all empty strings\n",
    "\n",
    "anthemfull = list(itertools.chain.from_iterable(anthemtext)) \n",
    "anthemfull[5:30] #Text after removing empty strings"
   ]
  },
  {
   "cell_type": "code",
   "execution_count": 4,
   "metadata": {},
   "outputs": [
    {
     "data": {
      "text/plain": [
       "['think',\n",
       " 'words',\n",
       " 'others',\n",
       " 'think',\n",
       " 'put',\n",
       " 'upon',\n",
       " 'paper',\n",
       " 'others',\n",
       " 'see',\n",
       " 'It',\n",
       " 'base',\n",
       " 'evil',\n",
       " 'It',\n",
       " 'speaking',\n",
       " 'alone',\n",
       " 'ears',\n",
       " 'And',\n",
       " 'know',\n",
       " 'well',\n",
       " 'transgression']"
      ]
     },
     "execution_count": 4,
     "metadata": {},
     "output_type": "execute_result"
    }
   ],
   "source": [
    "# Tokenization, Removal of Stopwords and Punctuation\n",
    "\n",
    "def tokenized(text):\n",
    "    token = list(itertools.chain.from_iterable(map(word_tokenize, text)))\n",
    "    stop_words=list(stopwords.words(\"english\"))\n",
    "    token[:] = (word for word in token if word not in stop_words)\n",
    "    tokens_no_punc = [''.join(c for c in s if c not in string.punctuation) for s in token]\n",
    "    tokensfinal = [s for s in tokens_no_punc if s]\n",
    "    return tokensfinal\n",
    "\n",
    "anthemtokens = tokenized(anthemfull)\n",
    "anthemtokens[10:30]\n"
   ]
  },
  {
   "cell_type": "code",
   "execution_count": 5,
   "metadata": {},
   "outputs": [
    {
     "data": {
      "text/plain": [
       "<Figure size 640x480 with 1 Axes>"
      ]
     },
     "metadata": {},
     "output_type": "display_data"
    },
    {
     "data": {
      "text/plain": [
       "<matplotlib.axes._subplots.AxesSubplot at 0x12202c2e8>"
      ]
     },
     "execution_count": 5,
     "metadata": {},
     "output_type": "execute_result"
    }
   ],
   "source": [
    "# Frequency counts of top 30 words in the text\n",
    "fdist = FreqDist(anthemtokens)\n",
    "fdist.plot(30,cumulative=False)"
   ]
  },
  {
   "cell_type": "code",
   "execution_count": 6,
   "metadata": {},
   "outputs": [
    {
     "data": {
      "text/plain": [
       "['think',\n",
       " 'word',\n",
       " 'other',\n",
       " 'think',\n",
       " 'put',\n",
       " 'upon',\n",
       " 'paper',\n",
       " 'other',\n",
       " 'see',\n",
       " 'It',\n",
       " 'base',\n",
       " 'evil',\n",
       " 'It',\n",
       " 'speak',\n",
       " 'alon',\n",
       " 'ear',\n",
       " 'and',\n",
       " 'know',\n",
       " 'well',\n",
       " 'transgress']"
      ]
     },
     "execution_count": 6,
     "metadata": {},
     "output_type": "execute_result"
    }
   ],
   "source": [
    "# Finding the Stems of Relevant Words\n",
    "\n",
    "def stemming(text):\n",
    "    ps = PorterStemmer()\n",
    "    stemmed = []\n",
    "    stemmed[:] = (ps.stem(word) for word in text) #Stemmed words\n",
    "    return stemmed\n",
    "\n",
    "anthemstem = stemming(anthemtokens)\n",
    "anthemstem[10:30]"
   ]
  },
  {
   "cell_type": "code",
   "execution_count": 7,
   "metadata": {},
   "outputs": [
    {
     "data": {
      "text/plain": [
       "['think',\n",
       " 'word',\n",
       " 'others',\n",
       " 'think',\n",
       " 'put',\n",
       " 'upon',\n",
       " 'paper',\n",
       " 'others',\n",
       " 'see',\n",
       " 'It',\n",
       " 'base',\n",
       " 'evil',\n",
       " 'It',\n",
       " 'speaking',\n",
       " 'alone',\n",
       " 'ear',\n",
       " 'And',\n",
       " 'know',\n",
       " 'well',\n",
       " 'transgression']"
      ]
     },
     "execution_count": 7,
     "metadata": {},
     "output_type": "execute_result"
    }
   ],
   "source": [
    "# Lemmatizing Words\n",
    "\n",
    "def lemmatizer(text):\n",
    "    lemming = WordNetLemmatizer()\n",
    "    lemmatized = []\n",
    "    lemmatized[:] = (lemming.lemmatize(word) for word in text) #Lemmatized Words\n",
    "    return lemmatized\n",
    "\n",
    "anthemlemma = lemmatizer(anthemtokens)\n",
    "anthemlemma[10:30]"
   ]
  },
  {
   "cell_type": "code",
   "execution_count": 9,
   "metadata": {},
   "outputs": [
    {
     "data": {
      "image/png": "[encoded data removed]",
      "text/plain": [
       "<Figure size 432x288 with 1 Axes>"
      ]
     },
     "metadata": {
      "needs_background": "light"
     },
     "output_type": "display_data"
    },
    {
     "data": {
      "image/png": "[encoded data removed]",
      "text/plain": [
       "<Figure size 432x288 with 1 Axes>"
      ]
     },
     "metadata": {
      "needs_background": "light"
     },
     "output_type": "display_data"
    }
   ],
   "source": [
    "# Create bar graph of word counts\n",
    "\n",
    "def countergraph(text, titlename):\n",
    "    count = Counter(text)\n",
    "    mostfreq = count.most_common(30)\n",
    "    freqdf = pd.DataFrame(mostfreq, columns = ['Word', 'Count'])\n",
    "    freqdf.plot.bar(x='Word', y='Count', title = titlename)\n",
    "\n",
    "stemgraph = countergraph(anthemstem, \"Top 30 Stemmed Words in Anthem\")\n",
    "lemmagraph = countergraph(anthemlemma, \"Top 30 Lemmatized Words in Anthem\")"
   ]
  },
  {
   "cell_type": "code",
   "execution_count": 18,
   "metadata": {},
   "outputs": [],
   "source": [
    "# Count Vectorizer for Lemmatized words\n",
    "\n",
    "count_vect_lem = CountVectorizer(max_df=0.8, min_df=2, stop_words='english')\n",
    "\n",
    "lem_term_matrix = count_vect_lem.fit_transform(anthemlemma)"
   ]
  },
  {
   "cell_type": "code",
   "execution_count": 19,
   "metadata": {},
   "outputs": [
    {
     "name": "stdout",
     "output_type": "stream",
     "text": [
      "Top 10 words for topic #0:\n",
      "['water', 'moved', 'walk', 'tunnel', 'end', 'spirit', 'woman', 'say', 'heart', 'fear', 'wall', 'voice', 'box', 'white', 'came', 'body', 'said', 'council', 'brother', 'men']\n",
      "\n",
      "\n",
      "Top 10 words for topic #1:\n",
      "['long', 'new', 'liberty', 'candle', 'brought', 'road', 'strange', 'look', 'face', 'speak', 'think', 'street', 'light', 'year', 'like', 'city', 'save', 'thing', 'hand', 'great']\n",
      "\n",
      "\n",
      "Top 10 words for topic #2:\n",
      "['times', 'understand', 'bed', 'raised', 'stone', 'place', '53000', 'tree', '72521', 'wonder', 'wished', 'international', 'secret', 'wire', 'man', 'come', 'evil', 'world', 'day', 'eye']\n",
      "\n",
      "\n",
      "Top 10 words for topic #3:\n",
      "['mind', 'fell', 'good', 'straight', 'asked', 'metal', 'iron', 'equality', 'heard', 'house', 'head', 'stood', 'forest', 'sky', 'scholars', 'saw', 'knew', 'home', 'know', 'shall']\n",
      "\n",
      "\n",
      "Top 10 words for topic #4:\n",
      "['sun', 'suddenly', 'hall', 'answered', 'law', 'away', 'let', 'walked', 'glass', 'arm', 'time', 'power', 'night', 'work', 'wish', 'looked', 'thought', 'golden', 'earth', 'word']\n",
      "\n",
      "\n"
     ]
    }
   ],
   "source": [
    "## LDA Topic Modelling for Lemmatized words \n",
    "\n",
    "lem_lda = LatentDirichletAllocation(n_components=5, random_state=0)\n",
    "lem_lda.fit(lem_term_matrix)\n",
    "\n",
    "for i,topic in enumerate(lem_lda.components_):\n",
    "    print(f'Top 10 words for topic #{i}:')\n",
    "    print([count_vect_lem.get_feature_names()[i] for i in topic.argsort()[-20:]])\n",
    "    print('\\n')"
   ]
  },
  {
   "cell_type": "code",
   "execution_count": 21,
   "metadata": {},
   "outputs": [],
   "source": [
    "# Count Vectorizer for Stemmed Words\n",
    "\n",
    "count_vect_stem = CountVectorizer(max_df=0.8, min_df=2, stop_words='english')\n",
    "\n",
    "stem_term_matrix = count_vect_stem.fit_transform(anthemstem)"
   ]
  },
  {
   "cell_type": "code",
   "execution_count": 22,
   "metadata": {},
   "outputs": [
    {
     "name": "stdout",
     "output_type": "stream",
     "text": [
      "Top 10 words for topic #0:\n",
      "['flame', 'metal', 'straight', '48818', 'wall', 'secret', 'away', 'evil', 'stood', 'world', 'sky', 'walk', 'thought', 'bodi', 'citi', 'said', 'great', 'shall', 'council', 'brother']\n",
      "\n",
      "\n",
      "Top 10 words for topic #1:\n",
      "['smile', 'reason', 'suddenli', 'sun', 'brought', 'road', 'say', 'turn', 'candl', 'voic', 'strang', 'hous', 'ask', 'live', 'head', 'night', 'knew', 'thing', 'look', 'men']\n",
      "\n",
      "\n",
      "Top 10 words for topic #2:\n",
      "['intern', 'heard', 'hall', 'wonder', 'box', 'sweeper', 'arm', 'power', 'learn', 'forest', 'mani', 'light', 'year', 'speak', 'like', 'save', 'wish', 'earth', 'day', 'word']\n",
      "\n",
      "\n",
      "Top 10 words for topic #3:\n",
      "['whisper', 'life', 'water', 'understand', 'crime', 'stone', '53000', 'hour', 'lie', '72521', 'tree', 'iron', 'let', 'wire', 'man', 'thi', 'saw', 'hand', 'eye', 'know']\n",
      "\n",
      "\n",
      "Top 10 words for topic #4:\n",
      "['women', 'equal', 'follow', 'fear', 'stop', 'white', 'glass', 'answer', 'came', 'come', 'face', 'alon', 'street', 'think', 'work', 'scholar', 'noth', 'time', 'golden', 'home']\n",
      "\n",
      "\n"
     ]
    }
   ],
   "source": [
    "## LDA Topic Modelling for Stemmed words \n",
    "\n",
    "stem_lda = LatentDirichletAllocation(n_components=5, random_state=0)\n",
    "stem_lda.fit(stem_term_matrix)\n",
    "\n",
    "for i,topic in enumerate(stem_lda.components_):\n",
    "    print(f'Top 10 words for topic #{i}:')\n",
    "    print([count_vect_stem.get_feature_names()[i] for i in topic.argsort()[-20:]])\n",
    "    print('\\n')"
   ]
  }
 ],
 "metadata": {
  "kernelspec": {
   "display_name": "Python 3",
   "language": "python",
   "name": "python3"
  },
  "language_info": {
   "codemirror_mode": {
    "name": "ipython",
    "version": 3
   },
   "file_extension": ".py",
   "mimetype": "text/x-python",
   "name": "python",
   "nbconvert_exporter": "python",
   "pygments_lexer": "ipython3",
   "version": "3.7.3"
  }
 },
 "nbformat": 4,
 "nbformat_minor": 2
}
